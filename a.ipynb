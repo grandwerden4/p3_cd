{
  "cells": [
    {
      "cell_type": "markdown",
      "metadata": {
        "id": "pqdfMlTQLPVE"
      },
      "source": [
        "### FIRST "
      ]
    },
    {
      "cell_type": "code",
      "execution_count": null,
      "metadata": {
        "id": "jkWlxU5bEYsA"
      },
      "outputs": [],
      "source": [
        "import sys\n",
        "grammer = {}\n",
        "\n",
        "non_terminals = set()\n",
        "\n",
        "first_sets = {}"
      ]
    },
    {
      "cell_type": "code",
      "execution_count": null,
      "metadata": {
        "id": "nU2TK6te9Jeh"
      },
      "outputs": [],
      "source": [
        "def parse_grammer(input_lines):\n",
        "  grammer.clear()\n",
        "  non_terminals.clear()\n",
        "\n",
        "  for line in input_lines:\n",
        "    line = line.strip()\n",
        "    if not line or line.startswith('#'):\n",
        "      continue\n",
        "    head, _, str_productions = line.partition(':')\n",
        "    head = head.strip()\n",
        "\n",
        "    if not head.isupper():\n",
        "      print(f\" Non terminal {head} is not uppercase.\")\n",
        "\n",
        "    non_terminals.add(head)\n",
        "\n",
        "    if head not in grammer:\n",
        "      grammer[head] = []\n",
        "\n",
        "    productions = str_productions.split('|')\n",
        "    for production in productions:\n",
        "      production = production.strip()\n",
        "      grammer[head].append(production.split()) "
      ]
    },
    {
      "cell_type": "code",
      "execution_count": null,
      "metadata": {
        "id": "GLKlUknq96gh"
      },
      "outputs": [],
      "source": [
        "def calculate_first_for_sequence(sequence):\n",
        "  first = set()\n",
        "\n",
        "  if not sequence or (len(sequence) == 1 and sequence[0] == 'Epsilon'):\n",
        "    return {'Epsilon'}\n",
        "\n",
        "  can_produce_epsilon = True\n",
        "\n",
        "  for symbol in sequence:\n",
        "    if symbol not in non_terminals:\n",
        "      first.add(symbol)\n",
        "      can_produce_epsilon = False\n",
        "      break\n",
        "\n",
        "    first_of_symbol = first_sets.get(symbol, set())\n",
        "    first.update(first_of_symbol - {'Epsilon'})\n",
        "\n",
        "    if 'Epsilon' not in first_of_symbol:\n",
        "      can_produce_epsilon = False\n",
        "      break\n",
        "\n",
        "  if can_produce_epsilon:\n",
        "    first.add('Epsilon')\n",
        "\n",
        "  return first\n"
      ]
    },
    {
      "cell_type": "code",
      "execution_count": null,
      "metadata": {
        "id": "yunp5y1KBfU5"
      },
      "outputs": [],
      "source": [
        "def compute_first_set():\n",
        "\n",
        "  for nt in non_terminals:\n",
        "    first_sets[nt] = set()\n",
        "\n",
        "  while True:\n",
        "    changed = False\n",
        "\n",
        "    for nt in non_terminals:\n",
        "      original_size = len(first_sets[nt])\n",
        "\n",
        "      for production in grammer.get(nt, []):\n",
        "        first_of_rhs = calculate_first_for_sequence(production)\n",
        "        first_sets[nt].update(first_of_rhs)\n",
        "\n",
        "      if len(first_sets[nt]) != original_size:\n",
        "        changed = True\n",
        "\n",
        "    if not changed:\n",
        "      break\n"
      ]
    },
    {
      "cell_type": "code",
      "execution_count": null,
      "metadata": {
        "id": "JYhbU8UKCMGS"
      },
      "outputs": [],
      "source": [
        "def main():\n",
        "\n",
        "  print(\"Enter the Grammer Rules: \")\n",
        "  print(\"use 'Epsilon'. press Enter on an Empty line when you are done\")\n",
        "  print(\"-\" * 20)\n",
        "\n",
        "  input_lines = []\n",
        "  while True:\n",
        "    try:\n",
        "      line = input()\n",
        "      if not line:\n",
        "        break\n",
        "      input_lines.append(line)\n",
        "\n",
        "    except EOFError:\n",
        "      break\n",
        "\n",
        "  if not input_lines:\n",
        "    print(\"No grammer rules for Entered. Exiting\")\n",
        "    return\n",
        "\n",
        "  try:\n",
        "\n",
        "    parse_grammer(input_lines)\n",
        "\n",
        "    compute_first_set()\n",
        "\n",
        "    print(\"\\nFIRST Sets:\")\n",
        "    print(\"-\" * 20)\n",
        "    sorted_nts = sorted(list(non_terminals)) \n",
        "    for nt in sorted_nts:\n",
        "\n",
        "            terminals_str = \", \".join(sorted(list(first_sets.get(nt, set()))))\n",
        "            print(f\"FIRST({nt}) = {{ {terminals_str} }}\")\n",
        "\n",
        "  except Exception as e:\n",
        "        print(f\"\\nAn error occurred: {e}\", file=sys.stderr)"
      ]
    },
    {
      "cell_type": "code",
      "execution_count": null,
      "metadata": {
        "colab": {
          "base_uri": "https://localhost:8080/"
        },
        "id": "AeJArOhCEszK",
        "outputId": "67d03c75-42c7-489a-cc39-a5c82b085c27"
      },
      "outputs": [
        {
          "name": "stdout",
          "output_type": "stream",
          "text": [
            "Enter the Grammer Rules: \n",
            "use 'Epsilon'. press Enter on an Empty line when you are done\n",
            "--------------------\n",
            "S : A | B C\n",
            "A : a | b\n",
            "B : p | Epsilon\n",
            "C : c\n",
            "\n",
            "\n",
            "FIRST Sets:\n",
            "--------------------\n",
            "FIRST(A) = { a, b }\n",
            "FIRST(B) = { Epsilon, p }\n",
            "FIRST(C) = { c }\n",
            "FIRST(S) = { a, b, c, p }\n"
          ]
        }
      ],
      "source": [
        "if __name__ == \"__main__\":\n",
        "    main()"
      ]
    },
    {
      "cell_type": "markdown",
      "metadata": {
        "id": "a4ed0dd6"
      },
      "source": [
        "### Follow"
      ]
    },
    {
      "cell_type": "code",
      "execution_count": null,
      "metadata": {
        "id": "5850eeec"
      },
      "outputs": [],
      "source": [
        "def compute_follow_set():\n",
        "\n",
        "  follow_sets = {nt: set() for nt in non_terminals}\n",
        "\n",
        "  start_symbol = list(grammer.keys())[0]\n",
        "  follow_sets[start_symbol].add('$')\n",
        "\n",
        "\n",
        "  changed = True\n",
        "  while changed:\n",
        "    changed = False\n",
        "\n",
        "\n",
        "    for head, productions in grammer.items():\n",
        "      for production in productions:\n",
        "        for i, symbol in enumerate(production):\n",
        "          if symbol in non_terminals:\n",
        "            beta = production[i+1:]\n",
        "            first_of_beta = calculate_first_for_sequence(beta)\n",
        "\n",
        "            original_size = len(follow_sets[symbol])\n",
        "            follow_sets[symbol].update(first_of_beta - {'Epsilon'})\n",
        "\n",
        "            if 'Epsilon' in first_of_beta or not beta:\n",
        "              follow_sets[symbol].update(follow_sets[head])\n",
        "\n",
        "            if len(follow_sets[symbol]) != original_size:\n",
        "              changed = True \n",
        "  return follow_sets "
      ]
    },
    {
      "cell_type": "markdown",
      "metadata": {
        "id": "4ce063f0"
      },
      "source": [
        "#### Construct LL(1) parsing table\n"
      ]
    },
    {
      "cell_type": "code",
      "execution_count": null,
      "metadata": {
        "id": "f599c915"
      },
      "outputs": [],
      "source": [
        "def construct_ll1_table(grammer, first_sets, follow_sets):\n",
        "  parsing_table = {}\n",
        "\n",
        "  terminals = set()\n",
        "  for productions in grammer.values():\n",
        "    for production in productions:\n",
        "      for symbol in production:\n",
        "        if symbol not in non_terminals and symbol != 'Epsilon':\n",
        "          terminals.add(symbol)\n",
        "  terminals.add('$')\n",
        "\n",
        "  for nt in non_terminals:\n",
        "    parsing_table[nt] = {}\n",
        "    for t in terminals:\n",
        "      parsing_table[nt][t] = None\n",
        "\n",
        "  for head, productions in grammer.items():\n",
        "    for production in productions:\n",
        "      first_of_rhs = calculate_first_for_sequence(production)\n",
        "\n",
        "      if 'Epsilon' in first_of_rhs:\n",
        "        for terminal in follow_sets.get(head, set()):\n",
        "           if parsing_table[head][terminal] is not None:\n",
        "             print(f\"Conflict at M[{head}, {terminal}]: attempting to add {production} but {parsing_table[head][terminal]} already exists.\")\n",
        "           parsing_table[head][terminal] = production\n",
        "      else:\n",
        "        for terminal in first_of_rhs:\n",
        "          if terminal != 'Epsilon':\n",
        "            if parsing_table[head][terminal] is not None:\n",
        "              print(f\"Conflict at M[{head}, {terminal}]: attempting to add {production} but {parsing_table[head][terminal]} already exists.\")\n",
        "            parsing_table[head][terminal] = production\n",
        "\n",
        "  return parsing_table"
      ]
    },
    {
      "cell_type": "markdown",
      "metadata": {
        "id": "599b2c4a"
      },
      "source": [
        "#### Display the computed FOLLOW sets and the constructed LL(1) parsing table.\n"
      ]
    },
    {
      "cell_type": "code",
      "execution_count": null,
      "metadata": {
        "colab": {
          "base_uri": "https://localhost:8080/"
        },
        "id": "ead02810",
        "outputId": "1f6e23c2-c6e2-49f6-da64-54ccecb53b5d"
      },
      "outputs": [
        {
          "name": "stdout",
          "output_type": "stream",
          "text": [
            "\n",
            "FOLLOW Sets:\n",
            "--------------------\n",
            "FOLLOW(A) = { $ }\n",
            "FOLLOW(B) = { c }\n",
            "FOLLOW(C) = { $ }\n",
            "FOLLOW(S) = { $ }\n",
            "\n",
            "LL(1) Parsing Table:\n",
            "--------------------\n",
            "Non-Terminal$         a         b         c         p         \n",
            "------------------------------------------------------------\n",
            "A                   A -> a    A -> b                        \n",
            "B                                       B -> EpsilonB -> p    \n",
            "C                                       C -> c              \n",
            "S                   S -> A    S -> A    S -> B C  S -> B C  \n"
          ]
        }
      ],
      "source": [
        "\n",
        "follow_sets = compute_follow_set()\n",
        "parsing_table = construct_ll1_table(grammer, first_sets, follow_sets)\n",
        "\n",
        "print(\"\\nFOLLOW Sets:\")\n",
        "print(\"-\" * 20)\n",
        "sorted_nts = sorted(list(non_terminals)) \n",
        "for nt in sorted_nts:\n",
        "    terminals_str = \", \".join(sorted(list(follow_sets.get(nt, set()))))\n",
        "    print(f\"FOLLOW({nt}) = {{ {terminals_str} }}\")\n",
        "\n",
        "print(\"\\nLL(1) Parsing Table:\")\n",
        "print(\"-\" * 20)\n",
        "\n",
        "terminals = set()\n",
        "for productions in grammer.values():\n",
        "    for production in productions:\n",
        "        for symbol in production:\n",
        "            if symbol not in non_terminals and symbol != 'Epsilon':\n",
        "                terminals.add(symbol)\n",
        "terminals.add('$')\n",
        "sorted_terminals = sorted(list(terminals))\n",
        "\n",
        "header = \"{:<10}\".format(\"Non-Terminal\")\n",
        "for t in sorted_terminals:\n",
        "    header += \"{:<10}\".format(t)\n",
        "print(header)\n",
        "print(\"-\" * (10 * (len(sorted_terminals) + 1)))\n",
        "\n",
        "\n",
        "for nt in sorted_nts:\n",
        "    row = \"{:<10}\".format(nt)\n",
        "    for t in sorted_terminals:\n",
        "        production = parsing_table.get(nt, {}).get(t)\n",
        "        if production is not None:\n",
        "            production_str = \" \".join(production)\n",
        "            row += \"{:<10}\".format(f\"{nt} -> {production_str}\")\n",
        "        else:\n",
        "            row += \"{:<10}\".format(\"\")\n",
        "    print(row)"
      ]
    },
    {
      "cell_type": "code",
      "execution_count": null,
      "metadata": {
        "id": "jAe_O_oRI2SX"
      },
      "outputs": [],
      "source": []
    }
  ],
  "metadata": {
    "colab": {
      "provenance": []
    },
    "kernelspec": {
      "display_name": "base",
      "language": "python",
      "name": "python3"
    },
    "language_info": {
      "codemirror_mode": {
        "name": "ipython",
        "version": 3
      },
      "file_extension": ".py",
      "mimetype": "text/x-python",
      "name": "python",
      "nbconvert_exporter": "python",
      "pygments_lexer": "ipython3",
      "version": "3.13.5"
    }
  },
  "nbformat": 4,
  "nbformat_minor": 0
}
